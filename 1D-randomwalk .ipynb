{
 "cells": [
  {
   "cell_type": "code",
   "execution_count": null,
   "id": "a1ac8f97",
   "metadata": {},
   "outputs": [],
   "source": [
    "## MODULE A ==========================\n",
    "\n",
    "%pylab inline\n",
    "from itertools import cycle\n",
    "from mpl_toolkits.mplot3d import Axes3D\n",
    "dims = 1\n",
    "\n",
    "# change the XXXX in step_n to change the number of steps \n",
    "step_n = 100\n",
    "# change the XXXX value to change the step size =========================\n",
    "stepsize = 1\n",
    "# change the XXXX in select which step to see the value of ==========================================\n",
    "stepvalue = 10\n",
    "# change the XXXX to select the number of simulation iteartions ==========================================\n",
    "numberofiterations = 100\n",
    "    \n",
    "for i in range(1,numberofiterations):\n",
    "    origin = np.zeros((1,dims))\n",
    "\n",
    "    # Simulate steps in 1D\n",
    "    step_set = [-stepsize, 0 , stepsize]\n",
    "    step_shape = (step_n,dims)\n",
    "    steps = np.random.choice(a=step_set, size=step_shape)\n",
    "    print(steps.item(stepvalue))\n",
    "    path = np.concatenate([origin, steps]).cumsum(0)\n",
    "    start = path[:1]\n",
    "    stop = path[-1:]\n"
   ]
  },
  {
   "cell_type": "code",
   "execution_count": null,
   "id": "ab3f381c",
   "metadata": {},
   "outputs": [],
   "source": [
    "%time \n",
    "%pylab inline\n",
    "\n",
    "## MODULE B =========================================================\n",
    "\n",
    "from itertools import cycle\n",
    "from mpl_toolkits.mplot3d import Axes3D\n",
    "import time\n",
    "colors = cycle('bgrcmykbgrcmykbgrcmykbgrcmyk')\n",
    "dims = 1\n",
    "\n",
    "# change the XXXX in step_n to change the number of steps ================================\n",
    "step_n = 100\n",
    "# change the XXXX value  to change the step size =========================\n",
    "stepsize = 1\n",
    "\n",
    "# Simulate steps in 1D\n",
    "step_set = [-stepsize, 0 , stepsize]\n",
    "origin = np.zeros((1,dims))\n",
    "step_shape = (step_n,dims)\n",
    "starttime = time.process_time()\n",
    "steps = np.random.choice(a=step_set, size=step_shape)\n",
    "steptime = (time.process_time() - starttime)/step_n\n",
    "path = np.concatenate([origin, steps]).cumsum(0)\n",
    "start = path[:1]\n",
    "stop = path[-1:]\n",
    "print('Step time in nanoseconds:', steptime)\n",
    "\n",
    "# Plot the path\n",
    "fig = plt.figure(figsize=(8,4),dpi=200)\n",
    "ax = fig.add_subplot(111)\n",
    "ax.scatter(np.arange(step_n+1), path, c='blue',alpha=0.25,s=0.05);\n",
    "ax.plot(path,c='blue',alpha=0.5,lw=0.5,ls='-');\n",
    "ax.plot(0, start, c='red', marker='+')\n",
    "ax.plot(step_n, stop, c='black', marker='o')\n",
    "xlabel('Number of steps'),ylabel('Distance traveled in \\u03BCm ')\n",
    "plt.title('1D Random Walk')\n",
    "plt.tight_layout(pad=0)"
   ]
  }
 ],
 "metadata": {
  "kernelspec": {
   "display_name": "Python 3",
   "language": "python",
   "name": "python3"
  },
  "language_info": {
   "codemirror_mode": {
    "name": "ipython",
    "version": 3
   },
   "file_extension": ".py",
   "mimetype": "text/x-python",
   "name": "python",
   "nbconvert_exporter": "python",
   "pygments_lexer": "ipython3",
   "version": "3.6.13"
  }
 },
 "nbformat": 4,
 "nbformat_minor": 5
}
